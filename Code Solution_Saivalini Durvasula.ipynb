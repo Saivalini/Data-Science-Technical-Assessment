{
 "cells": [
  {
   "cell_type": "markdown",
   "metadata": {},
   "source": [
    "# Technical Assessment Solution"
   ]
  },
  {
   "cell_type": "markdown",
   "metadata": {},
   "source": [
    "$\\large\\text{Submitted By: Saivalini Durvasula}$"
   ]
  },
  {
   "cell_type": "code",
   "execution_count": 1,
   "metadata": {},
   "outputs": [],
   "source": [
    "# 15-character strings given to me\n",
    "#\"ABCDEFGHIJKLMNO\"\n",
    "#\"MYLANGUAGEMODEL\""
   ]
  },
  {
   "cell_type": "markdown",
   "metadata": {},
   "source": [
    "$\\large\\text{Code Development: 15-Character String}$"
   ]
  },
  {
   "cell_type": "code",
   "execution_count": 2,
   "metadata": {},
   "outputs": [
    {
     "name": "stdout",
     "output_type": "stream",
     "text": [
      "Enter your original string ABCDEFGHIJKLMNO\n",
      "Permuted String is: CMLNFAOHDIJKBGE\n"
     ]
    }
   ],
   "source": [
    "# Code Development to generate the permuted strings from orignal strings\n",
    "# position mappings are explained in the document\n",
    "str1 = input(\"Enter your original string \") # space after \"Enter you string\" \n",
    "perm_str = list(range(15))\n",
    "perm_str[0] = str1[2]\n",
    "perm_str[1] = str1[12]\n",
    "perm_str[2] = str1[11]\n",
    "perm_str[3] = str1[13]\n",
    "perm_str[4] = str1[5]\n",
    "perm_str[5] = str1[0]\n",
    "perm_str[6] = str1[14]\n",
    "perm_str[7] = str1[7]\n",
    "perm_str[8] = str1[3]\n",
    "perm_str[9] = str1[8]\n",
    "perm_str[10] = str1[9]\n",
    "perm_str[11] = str1[10]\n",
    "perm_str[12] = str1[1]\n",
    "perm_str[13] = str1[6]\n",
    "perm_str[14] = str1[4]\n",
    "\n",
    "perm_str1 = ''.join(perm_str)\n",
    "print(\"Permuted String is:\",perm_str1)"
   ]
  },
  {
   "cell_type": "code",
   "execution_count": 3,
   "metadata": {},
   "outputs": [
    {
     "name": "stdout",
     "output_type": "stream",
     "text": [
      "Enter your permuted string CMLNFAOHDIJKBGE\n",
      "Original String is: ABCDEFGHIJKLMNO\n"
     ]
    }
   ],
   "source": [
    "# Other Way Round! \n",
    "# Code Development to generate permuted strings from orignal strings\n",
    "# # position mappings are explained in the document\n",
    "str1 = input(\"Enter your permuted string \") # space after \"Enter you string\" \n",
    "orig_str = list(range(15))\n",
    "orig_str[0] = str1[5]\n",
    "orig_str[1] = str1[12]\n",
    "orig_str[2] = str1[0]\n",
    "orig_str[3] = str1[8]\n",
    "orig_str[4] = str1[14]\n",
    "orig_str[5] = str1[4]\n",
    "orig_str[6] = str1[13]\n",
    "orig_str[7] = str1[7]\n",
    "orig_str[8] = str1[9]\n",
    "orig_str[9] = str1[10]\n",
    "orig_str[10] = str1[11]\n",
    "orig_str[11] = str1[2]\n",
    "orig_str[12] = str1[1]\n",
    "orig_str[13] = str1[3]\n",
    "orig_str[14] = str1[6]\n",
    "\n",
    "orig_str1 = ''.join(orig_str)\n",
    "print(\"Original String is:\",orig_str1)"
   ]
  },
  {
   "cell_type": "markdown",
   "metadata": {},
   "source": [
    "$\\large\\text{Code Improvement: 15-Character String}$"
   ]
  },
  {
   "cell_type": "code",
   "execution_count": 4,
   "metadata": {},
   "outputs": [
    {
     "name": "stdout",
     "output_type": "stream",
     "text": [
      "Original string is ABCDEFGHIJKLMNO\n",
      "Permuted string is CMLNFAOHDIJKBGE\n"
     ]
    }
   ],
   "source": [
    "# Code Improvement - To generate permuted string from original string (15 character)\n",
    "pos = [2,12,11,13,5,0,14,7,3,8,9,10,1,6,4] # These are the positions of the values from original string that should go to in the permuted string\n",
    "# original string has C in the 2nd position, this will go as 0th position in the permuted string\n",
    "# same for the other positions\n",
    "str1 = \"ABCDEFGHIJKLMNO\"\n",
    "perm_str = list(range(15))\n",
    "for i in perm_str:\n",
    "    perm_str[i] = str1[pos[i]]\n",
    "perm_str1 = ''.join(perm_str)\n",
    "print('Original string is',str1)\n",
    "print(\"Permuted string is\", perm_str1)"
   ]
  },
  {
   "cell_type": "code",
   "execution_count": 5,
   "metadata": {},
   "outputs": [
    {
     "name": "stdout",
     "output_type": "stream",
     "text": [
      "Permuted String is CMLNFAOHDIJKBGE\n",
      "Original string is ABCDEFGHIJKLMNO\n"
     ]
    }
   ],
   "source": [
    "# Code Improvement - To generate original string from permuted string (15 characters)\n",
    "pos = [5,12,0,8,14,4,13,7,9,10,11,2,1,3,6] # These are the positions of values in the permuted string that go into the original string\n",
    "# 5th position in permuted string, goes as 0th position in the original string\n",
    "str2 = \"CMLNFAOHDIJKBGE\"\n",
    "orig_str = list(range(15)) \n",
    "for i in orig_str:\n",
    "    orig_str[i] = str2[pos[i]]\n",
    "orig_str1 = ''.join(orig_str)\n",
    "print(\"Permuted String is\", str2)\n",
    "print(\"Original string is\",orig_str1)\n"
   ]
  },
  {
   "cell_type": "markdown",
   "metadata": {},
   "source": [
    "$\\large\\text{Code Development: 128-Character Strings}$"
   ]
  },
  {
   "cell_type": "code",
   "execution_count": 6,
   "metadata": {},
   "outputs": [
    {
     "data": {
      "text/plain": [
       "'AEDSTYOW       '"
      ]
     },
     "execution_count": 6,
     "metadata": {},
     "output_type": "execute_result"
    }
   ],
   "source": [
    "# Document has explanation on the flow of work \n",
    "# The permuted string needs to be entered with trailing white spaces\n",
    "# Following code adds white spaces at the end of the 8-character string and make it 15 characters \n",
    "strng = 'AEDSTYOW'\n",
    "f'{strng: <15}'\n",
    "\n",
    "#Link: https://stackoverflow.com/questions/5676646/how-can-i-fill-out-a-python-string-with-spaces"
   ]
  },
  {
   "cell_type": "code",
   "execution_count": 7,
   "metadata": {},
   "outputs": [
    {
     "name": "stdout",
     "output_type": "stream",
     "text": [
      "Enter your permuted string RTRARLDIRPOSEAPOLRWIFAPISEALLRANAAETREEOIPSSAEOARMRLPEYAEEPEIRELDVLSUNORBNOALNCADFEIOMNDTTLRDAYIHSPRNTNSOSGYYTUMEYEUNCRTAEDSTYOW\n",
      "Original string is LERRPRAIPOSRTADFLOIRILPSEARLWATSAEAESEOIPANARREEEEMPPYAEAORLVBIUODNSNORERLLDDAITATEOMNNLCFINLPOYSSRNTDRAHUCSYTTREEUNYGYMY A  T W   DESO\n",
      "length of Original string is 135\n"
     ]
    }
   ],
   "source": [
    "# To generate original string from permuted string of 128 characters\n",
    "# Add white spaces to the last 8 chracters of the string to make it 15 characters\n",
    "# Problems that came up: \n",
    "# Problem-1: Last 15 characters have empty spaces. \n",
    "# Problem-2: Generates 135 charcater string. Need to generate 128 chracters. \n",
    "\n",
    "split_str= []\n",
    "orig_str = []\n",
    "orig_str2 = []\n",
    "pos = [5,12,0,8,14,4,13,7,9,10,11,2,1,3,6] # These are the position of the letter in the permuted string that goto the original string\n",
    "# letter in position 5 of the permuted string, goes into position 0 of the original string \n",
    "# letter in position 12 of permuted string goes into the position 1 of the original string\n",
    "# letter in the position 0 of the permuted string goes into position 2 of the original string and so on...\n",
    "str_split = input(\"Enter your permuted string \") # Enter string-3 from the 128 character permuted strings given in the Assessment \n",
    "n = 15\n",
    "split_strings = [str_split[index : index + n] for index in range(0, len(str_split), n)]\n",
    "for i in (split_strings):\n",
    "    split_str.append(i)\n",
    "#print(split_str)\n",
    "for i in range(len(split_strings)):\n",
    "    str2 = split_strings[i]\n",
    "    orig_str = list(range(len(str2)))\n",
    "    if len(orig_str) == 15:\n",
    "        for i in orig_str:\n",
    "            orig_str[i] = str2[pos[i]]\n",
    "        orig_str1 = ''.join(orig_str)\n",
    "        orig_str2.append(orig_str1)\n",
    "    else:\n",
    "        str2 = f'{str2: <15}' # Adds white spaces to our 8-charcater permuted string \n",
    "        orig_str = list(range(len(str2)))\n",
    "        for i in orig_str:\n",
    "            orig_str[i] = str2[pos[i]]\n",
    "        orig_str1 = ''.join(orig_str)\n",
    "        orig_str2.append(orig_str1)\n",
    "        #print(\"Intermediate Strings are\",orig_str1)\n",
    "        original_string = ''.join(orig_str2)\n",
    "        print(\"Original string is\",original_string)\n",
    "        print(\"length of Original string is\",len(original_string))"
   ]
  },
  {
   "cell_type": "code",
   "execution_count": 8,
   "metadata": {},
   "outputs": [
    {
     "name": "stdout",
     "output_type": "stream",
     "text": [
      "Enter your original string LERRPRAIPOSRTADFLOIRILPSEARLWATSAEAESEOIPANARREEEEMPPYAEAORLVBIUODNSNORERLLDDAITATEOMNNLCFINLPOYSSRNTDRAHUCSYTTREEUNYGYMY A  T W   DESO\n",
      "Permuted string is RTRARLDIRPOSEAPOLRWIFAPISEALLRANAAETREEOIPSSAEOARMRLPEYAEEPEIRELDVLSUNORBNOALNCADFEIOMNDTTLRDAYIHSPRNTNSOSGYYTUMEYEUNCRTAEDSTYOW       \n"
     ]
    }
   ],
   "source": [
    "# Final: Lets check if we get the permuted string back using the same position pattern from step-1\n",
    "# Here the original string will be 135 chracters \n",
    "# question says original string has spaces removed! \n",
    "# original string should be 128 chracters \n",
    "\n",
    "split_str= []\n",
    "perm_str = []\n",
    "perm_str2 = []\n",
    "pos = [2,12,11,13,5,0,14,7,3,8,9,10,1,6,4] # These are the position of the letter in the original string that goto into the permuted string\n",
    "# letter in 2nd position of the original string goes into the 0th position of the permuted string\n",
    "# letter in the 12th position of the original string goes into the 1rst position of the permuted string\n",
    "# letter in the 11th position of the original string goes into the 2nd position of the permuted string and so on..\n",
    "str_split = input(\"Enter your original string \") # Enter the original string generatd above with 135 characters and white spaces: LERRPRAIPOSRTADFLOIRILPSEARLWATSAEAESEOIPANARREEEEMPPYAEAORLVBIUODNSNORERLLDDAITATEOMNNLCFINLPOYSSRNTDRAHUCSYTTREEUNYGYMY A  T W   DESO\n",
    "n = 15\n",
    "split_strings = [str_split[index : index + n] for index in range(0, len(str_split), n)]\n",
    "for i in (split_strings):\n",
    "    split_str.append(i)\n",
    "for i in range(len(split_strings)):\n",
    "    str2 = split_strings[i]\n",
    "    perm_str = list(range(len(str2)))\n",
    "    for i in perm_str:\n",
    "        perm_str[i] = str2[pos[i]]\n",
    "    perm_str1 = ''.join(perm_str)\n",
    "    perm_str2.append(perm_str1)\n",
    "permuted_string = ''.join(perm_str2)\n",
    "print(\"Permuted string is\",permuted_string)\n",
    "\n",
    "# The permuted string I could generate from the 135 character string is exactly same as the one given in the question paper\n",
    "# This means that the original string consists of the characters YATWDESO with the white spaces dropped.\n",
    "# White spaces need to be dropped because we need a 128 chracter original string with no white spaces, based on the description in the question paper\n",
    "# Solution here would be: Use pattern from step-1 for 15 character length strings and create a new pattern for the 8-character strings to be used. "
   ]
  },
  {
   "cell_type": "code",
   "execution_count": 9,
   "metadata": {},
   "outputs": [
    {
     "name": "stdout",
     "output_type": "stream",
     "text": [
      "LERRPRAIPOSRTAD\n",
      "FLOIRILPSEARLWA\n",
      "TSAEAESEOIPANAR\n",
      "REEEEMPPYAEAORL\n",
      "VBIUODNSNORERLL\n",
      "DDAITATEOMNNLCF\n",
      "INLPOYSSRNTDRAH\n",
      "UCSYTTREEUNYGYM\n",
      "Y A  T W   DESO\n"
     ]
    }
   ],
   "source": [
    "# To work on the above problems: \n",
    "# Lets split our output original string into 15 charcaters each\n",
    "str_split = \"LERRPRAIPOSRTADFLOIRILPSEARLWATSAEAESEOIPANARREEEEMPPYAEAORLVBIUODNSNORERLLDDAITATEOMNNLCFINLPOYSSRNTDRAHUCSYTTREEUNYGYMY A  T W   DESO\"\n",
    "\n",
    "n = 15\n",
    "split_strings = [str_split[index : index + n] for index in range(0, len(str_split), n)]\n",
    "for i in range(len(split_strings)):\n",
    "    print(split_strings[i])"
   ]
  },
  {
   "cell_type": "code",
   "execution_count": 10,
   "metadata": {},
   "outputs": [
    {
     "name": "stdout",
     "output_type": "stream",
     "text": [
      "Enter your permuted string AEDSTYOW\n",
      "Original string is YATWDESO\n"
     ]
    }
   ],
   "source": [
    "# Verifying: To generate original string from permuted string (8 characters)\n",
    "pos = [5,0,4,7,2,1,3,6] # These are the positions of values in the permuted string that go into the original string\n",
    "str2 = input(\"Enter your permuted string \") # Enter AEDSTYOW, the last 8-characters of the 3rd permuted string from the assessment document\n",
    "orig_str = list(range(8)) \n",
    "for i in orig_str:\n",
    "    orig_str[i] = str2[pos[i]]\n",
    "orig_str1 = ''.join(orig_str)\n",
    "print(\"Original string is\",orig_str1)\n",
    "# Works! Lets incorporate this in the final code. "
   ]
  },
  {
   "cell_type": "code",
   "execution_count": 11,
   "metadata": {},
   "outputs": [
    {
     "name": "stdout",
     "output_type": "stream",
     "text": [
      "Enter your original string YATWDESO\n",
      "Permuted string is AEDSTYOW\n"
     ]
    }
   ],
   "source": [
    "# Other way round: \n",
    "# To generate permuted string from original string (8 character)\n",
    "pos = [1,5,4,6,2,0,7,3] # These are the positions of the values from original string that should go to in the permuted string\n",
    "str1 = input(\"Enter your original string \") # Enter the original string from above : YATWDESO\n",
    "perm_str = list(range(8))\n",
    "for i in perm_str:\n",
    "    perm_str[i] = str1[pos[i]]\n",
    "perm_str1 = ''.join(perm_str)\n",
    "print(\"Permuted string is\", perm_str1)\n",
    "# Works! approach seems to be working! "
   ]
  },
  {
   "cell_type": "markdown",
   "metadata": {},
   "source": [
    "$\\large\\text{Final Code: To generate 128-character Original String from the 128-character Permuted Strings}$"
   ]
  },
  {
   "cell_type": "code",
   "execution_count": 12,
   "metadata": {},
   "outputs": [
    {
     "name": "stdout",
     "output_type": "stream",
     "text": [
      "Enter your permuted string RTRARLDIRPOSEAPOLRWIFAPISEALLRANAAETREEOIPSSAEOARMRLPEYAEEPEIRELDVLSUNORBNOALNCADFEIOMNDTTLRDAYIHSPRNTNSOSGYYTUMEYEUNCRTAEDSTYOW\n",
      "Original string is LERRPRAIPOSRTADFLOIRILPSEARLWATSAEAESEOIPANARREEEEMPPYAEAORLVBIUODNSNORERLLDDAITATEOMNNLCFINLPOYSSRNTDRAHUCSYTTREEUNYGYMYATWDESO \n",
      "\n",
      "Length of Original string is 128 \n",
      "128 is the no. of chracters we need! verifies!\n"
     ]
    }
   ],
   "source": [
    "#To generate original string from permuted string of 128 characters\n",
    "# Based on the above analysis\n",
    "# Created an if else condition here. \n",
    "# Split the 128 character string into lengths of 15 \n",
    "# if length is \"==\" to 15, use position pattern-1 for 15 character strings \n",
    "# Else use position pattern-2 for 8-Character strings\n",
    "\n",
    "split_str= []\n",
    "orig_str = []\n",
    "orig_str2 = []\n",
    "pos = [5,12,0,8,14,4,13,7,9,10,11,2,1,3,6] # These are the positions in the originl string\n",
    "str_split = input(\"Enter your permuted string \") # Enter 3rd permuted string from the assesment document  RTRARLDIRPOSEAPOLRWIFAPISEALLRANAAETREEOIPSSAEOARMRLPEYAEEPEIRELDVLSUNORBNOALNCADFEIOMNDTTLRDAYIHSPRNTNSOSGYYTUMEYEUNCRTAEDSTYOW\n",
    "n = 15\n",
    "split_strings = [str_split[index : index + n] for index in range(0, len(str_split), n)]\n",
    "for i in (split_strings):\n",
    "    split_str.append(i)\n",
    "for i in range(len(split_strings)):\n",
    "    str2 = split_strings[i]\n",
    "    orig_str = list(range(len(str2)))\n",
    "    if len(orig_str) == 15:\n",
    "        for i in orig_str:\n",
    "            orig_str[i] = str2[pos[i]]\n",
    "        orig_str1 = ''.join(orig_str)\n",
    "        orig_str2.append(orig_str1)\n",
    "    else:\n",
    "        pos = [5,0,4,7,2,1,3,6]\n",
    "        orig_str = list(range(len(str2)))\n",
    "        for i in orig_str:\n",
    "            orig_str[i] = str2[pos[i]]\n",
    "        orig_str1 = ''.join(orig_str)\n",
    "        orig_str2.append(orig_str1)\n",
    "        original_string = ''.join(orig_str2)\n",
    "        print(\"Original string is\",original_string,'\\n')\n",
    "        print(\"Length of Original string is\",len(original_string),'\\n'\n",
    "              '128 is the no. of chracters we need! verifies!')"
   ]
  },
  {
   "cell_type": "code",
   "execution_count": 13,
   "metadata": {},
   "outputs": [
    {
     "name": "stdout",
     "output_type": "stream",
     "text": [
      "Enter your original string LERRPRAIPOSRTADFLOIRILPSEARLWATSAEAESEOIPANARREEEEMPPYAEAORLVBIUODNSNORERLLDDAITATEOMNNLCFINLPOYSSRNTDRAHUCSYTTREEUNYGYMYATWDESO\n",
      "Permuted string is RTRARLDIRPOSEAPOLRWIFAPISEALLRANAAETREEOIPSSAEOARMRLPEYAEEPEIRELDVLSUNORBNOALNCADFEIOMNDTTLRDAYIHSPRNTNSOSGYYTUMEYEUNCRTAEDSTYOW \n",
      "\n",
      "Length of Permuted String is: 128\n"
     ]
    }
   ],
   "source": [
    "# Other way Round! To verify work. \n",
    "# Generate permuted string from original string of 128 characters\n",
    "split_str= []\n",
    "perm_str = []\n",
    "perm_str2 = []\n",
    "pos = [2,12,11,13,5,0,14,7,3,8,9,10,1,6,4] # These are the positions in the permuted string\n",
    "str_split = input(\"Enter your original string \") # Enter the originals tring generated above: LERRPRAIPOSRTADFLOIRILPSEARLWATSAEAESEOIPANARREEEEMPPYAEAORLVBIUODNSNORERLLDDAITATEOMNNLCFINLPOYSSRNTDRAHUCSYTTREEUNYGYMYATWDESO \n",
    "n = 15\n",
    "split_strings = [str_split[index : index + n] for index in range(0, len(str_split), n)]\n",
    "for i in (split_strings):\n",
    "    split_str.append(i)\n",
    "for i in range(len(split_strings)):\n",
    "    str2 = split_strings[i]\n",
    "    perm_str = list(range(len(str2)))\n",
    "    if len(perm_str) == 15:\n",
    "        for i in perm_str:\n",
    "            perm_str[i] = str2[pos[i]]\n",
    "        perm_str1 = ''.join(perm_str)\n",
    "        perm_str2.append(perm_str1)\n",
    "    else: \n",
    "        pos = [1,5,4,6,2,0,7,3]\n",
    "        perm_str = list(range(len(str2)))\n",
    "        for i in perm_str:\n",
    "            perm_str[i] = str2[pos[i]]\n",
    "        perm_str1 = ''.join(perm_str)\n",
    "        perm_str2.append(perm_str1)\n",
    "        permuted_string = ''.join(perm_str2)\n",
    "        print(\"Permuted string is\",permuted_string,'\\n')\n",
    "        print(\"Length of Permuted String is:\", len(permuted_string))"
   ]
  },
  {
   "cell_type": "markdown",
   "metadata": {},
   "source": [
    "$\\large\\text{Final Code: Automation}$"
   ]
  },
  {
   "cell_type": "code",
   "execution_count": 14,
   "metadata": {},
   "outputs": [],
   "source": [
    "# Lets automate the run to take in input of all the permuted strings, and give us the original strings at once:\n",
    "all_perm_str = ['NTTEEEEGPAOSLIIWSEGTWOTEENAADWAIACSOYOECINELAUHERPNTNECIEASBOPTOSIVNEATFTNHNRREEAASIDHLNTYRANIAOESTMRBNASTACSSPYEDKAYRLTLKPUTTLP',\n",
    "                'EESLAHMANACSAASLLTEROECLYHEALBLVOCNYOALAIARILOTERCGOEDSFEYWDPTHHAAOTIPDWPNTEPIARYYIIEKCOPLNCCDUSNSAODBNNTLHLINAURSYLTNNTEEEGAESS',\n",
    "                'RTRARLDIRPOSEAPOLRWIFAPISEALLRANAAETREEOIPSSAEOARMRLPEYAEEPEIRELDVLSUNORBNOALNCADFEIOMNDTTLRDAYIHSPRNTNSOSGYYTUMEYEUNCRTAEDSTYOW',\n",
    "                'EILEEEERDNSOCTPVSGIYENRIDERTEEITAOALBIINAFSAEIBRTRRAFHROIDBRAALAUMROEEEDNRZHMRLAATAINMWYODDMKOESNTHHCPBTTIYMEUMTFXPEPMAVLIRBALNR',\n",
    "                'AMAUDEFCWITSPATNNGINNWGYTNRFISNDTGSEOAAFCLOELECSIETEHEETSNCMWSEBTCHNSEEHATEWUEEIIGRNEAOEAASSIATQEOEDNEEETOCSSTHMEHORVMEARRESTTNT',\n",
    "                'ITTEVONSSTOIGNTANLSRIJTWENVMNVEHTEDEVIDUCLPARIESUUIUDFPNOPRONSNAOGEAYAEUDASITORRONSLTNTGHOASIAPROITELNFTLJEENRRMNNAEMODTLOYPLIPI',\n",
    "                'CELEMOTAEADNIRORAOTOOIARANSSTSIELOSTTRDUCIIVNIVOEMSMIPTCTCLKHYMKNDAESENNHNNROELAPINEDPMEUOBEATUTNEUENFARCQNEENEORHSLAERSERECAERT',\n",
    "                'EBNHFSOILAHWOHIOCFTHWAEETATTHRNTOHFATAECIASSROELTIITHCSSREETTNEFTLTHLRECLPAOGAIIRKLAREASEDYTBGONKSATIGINMAIFDUEDTHHTUNNGDPESCHAC',\n",
    "                'EERTECTBHLTUUBTYEHCICNOOROHIAENASGONNFFTFEHERPSLPTANWHAEDEARSTAASMTETIHTIFRNNEEEOHECFHAIANTTSVLEHITCIPIORSIHNRPTDMOHLAOADYNETOKD',\n",
    "                'EMSNRNELSNEEGCDUADSRMUCDAEDSNOIRSWLNIOIINEEREBGIOTHOTGBUONADMYEELDNNNAIDOREANLBEPZDMEOSMGNTEXYUEIASCGFUARNSAFENNOMREFNSTOLCSSMIO']"
   ]
  },
  {
   "cell_type": "code",
   "execution_count": 15,
   "metadata": {},
   "outputs": [
    {
     "data": {
      "text/plain": [
       "10"
      ]
     },
     "execution_count": 15,
     "metadata": {},
     "output_type": "execute_result"
    }
   ],
   "source": [
    "len(all_perm_str)"
   ]
  },
  {
   "cell_type": "code",
   "execution_count": 16,
   "metadata": {},
   "outputs": [
    {
     "name": "stdout",
     "output_type": "stream",
     "text": [
      "Original string is ELNPIEIGAOSTTEEWAWEWTDTENAESGOOEAEASLOCINAICYNAUEBPSNCIEEHRTITOEHSNNATFTPOVANNIYETSDHLRREAONRTSAASMRBNAIEPRTDTSLEKAYCASYTLTPPKUL\n",
      "Length of Original string is 128 \n",
      "\n",
      "Original string is HAENSAAAACSSELMOALLBRLCYHETLEEYRLLLNIAAIAOVCOGYODDCWESFEETROAPPITANTPDWHTHOYOEILRPIEKCIPAYSNNATUNSODBCCDNANLSTNNRYLTLHIUEEASEEGS\n",
      "Length of Original string is 128 \n",
      "\n",
      "Original string is LERRPRAIPOSRTADFLOIRILPSEARLWATSAEAESEOIPANARREEEEMPPYAEAORLVBIUODNSNORERLLDDAITATEOMNNLCFINLPOYSSRNTDRAHUCSYTTREEUNYGYMYATWDESO\n",
      "Length of Original string is 128 \n",
      "\n",
      "Original string is ECEDPETRNSOLIEEETVIEYERDERGSINLSIIEAAINAFATOBRDIHRRBFROIRBTAMNAEZUROEEDLAARAYHIDAOANMWRMLTSBDHTETTHCPKMONMMIXVUAFPEPMYETLLARRIBN\n",
      "Length of Original string is 128 \n",
      "\n",
      "Original string is EPAWTDACITSAMUFNFNYSNIGTNRGNIWEONALSEAFCLTDGOTNEEMECHETSSCIECAWSETTNEEHESBHIEWNAIAREAOEUEGQESETTEODNEISAEHMOHATEEORVSCSMTRTTERSN\n",
      "Length of Original string is 128 \n",
      "\n",
      "Original string is OGISTVNSTOITTENIMAWVRNTENVLNSJEPEDRDAIUCLTHEVIPIFOURDPNOSEUUGDNYSOAAAEUNSAEOGILORHSTNTOTRNRFATLPTIELNISAOROJNTRDNAEMEENMILLIYOPP\n",
      "Length of Original string is 128 \n",
      "\n",
      "Original string is OICEOMRAADNLEETOSRRSOTAANSOATITIIDNSVRUCILEOTSCIPKMLITCTOVEMDHHSNNNEENNMYKAPEREOAUNDPMEOLITABUCUREENFAETNEEQHSNRRSLAENEOEEATERCR\n",
      "Length of Original string is 128 \n",
      "\n",
      "Original string is SOELIFHIAHWNBHOWTOERHHETATFCTAASNERFSACIAOTHTIEOCTIEHSSRLETTLLTLATPHRECENFTRSOADIELREAAGIKNIYAMONSTIGBTGKENAHGUNTHTUFIDDHDCCEPSA\n",
      "Length of Original string is 128 \n",
      "\n",
      "Original string is CUEHTEBBLTURETTCIYOEIAOROHHECNNHNFROEFTFESAGNAEPHRTAWAEDLSPNMISTRSFEIHTATATOINCNEAEFHAENEHEITTRLOICIPSTVHPASMARODOHLHINTODTDNYEK\n",
      "Length of Original string is 128 \n",
      "\n",
      "Original string is NGESDRCLNEESMNEMSUDORNCAEDDASUNEIIELROINESRWIHNBGDTATBUOIGOODOMNELRNAIDEYENPMAMNEGDEOSLNBZEUTSRUAACGFXEYINNNMTESOREFASFNMOSOCLSI\n",
      "Length of Original string is 128 \n",
      "\n"
     ]
    }
   ],
   "source": [
    "# Generate all the 10-Original Strings from the list of 10 Permuted Strings\n",
    "# Original strings will be saved in: orginal_string_all\n",
    "split_str= []\n",
    "orginal_string_all=[]\n",
    "for i in range(len(all_perm_str)):\n",
    "    str_split = all_perm_str[i]  \n",
    "    n = 15\n",
    "    split_strings = [str_split[index : index + n] for index in range(0, len(str_split), n)]\n",
    "    for i in (split_strings):\n",
    "        split_str.append(i)\n",
    "    orig_str = []\n",
    "    orig_str2 = []\n",
    "    for i in range(len(split_strings)):\n",
    "        pos = [5,12,0,8,14,4,13,7,9,10,11,2,1,3,6] # These are the positions in the originl string\n",
    "        str2 = split_strings[i]\n",
    "        orig_str = list(range(len(str2)))\n",
    "        if len(orig_str) == 15:\n",
    "            for i in orig_str:\n",
    "                orig_str[i] = str2[pos[i]]\n",
    "            orig_str1 = ''.join(orig_str)\n",
    "            orig_str2.append(orig_str1)\n",
    "        else:\n",
    "            pos = [5,0,4,7,2,1,3,6]\n",
    "            orig_str = list(range(len(str2)))\n",
    "            for i in orig_str:\n",
    "                orig_str[i] = str2[pos[i]]\n",
    "            orig_str1 = ''.join(orig_str)\n",
    "            orig_str2.append(orig_str1)\n",
    "            original_string = ''.join(orig_str2)\n",
    "            orginal_string_all.append(original_string) # contains all the 10 strings! \n",
    "            print(\"Original string is\",original_string)\n",
    "            print(\"Length of Original string is\",len(original_string),'\\n')"
   ]
  },
  {
   "cell_type": "code",
   "execution_count": 17,
   "metadata": {},
   "outputs": [
    {
     "name": "stdout",
     "output_type": "stream",
     "text": [
      "Permuted String is NTTEEEEGPAOSLIIWSEGTWOTEENAADWAIACSOYOECINELAUHERPNTNECIEASBOPTOSIVNEATFTNHNRREEAASIDHLNTYRANIAOESTMRBNASTACSSPYEDKAYRLTLKPUTTLP\n",
      "Length of Permuted string is 128 \n",
      "\n",
      "Permuted String is EESLAHMANACSAASLLTEROECLYHEALBLVOCNYOALAIARILOTERCGOEDSFEYWDPTHHAAOTIPDWPNTEPIARYYIIEKCOPLNCCDUSNSAODBNNTLHLINAURSYLTNNTEEEGAESS\n",
      "Length of Permuted string is 128 \n",
      "\n",
      "Permuted String is RTRARLDIRPOSEAPOLRWIFAPISEALLRANAAETREEOIPSSAEOARMRLPEYAEEPEIRELDVLSUNORBNOALNCADFEIOMNDTTLRDAYIHSPRNTNSOSGYYTUMEYEUNCRTAEDSTYOW\n",
      "Length of Permuted string is 128 \n",
      "\n",
      "Permuted String is EILEEEERDNSOCTPVSGIYENRIDERTEEITAOALBIINAFSAEIBRTRRAFHROIDBRAALAUMROEEEDNRZHMRLAATAINMWYODDMKOESNTHHCPBTTIYMEUMTFXPEPMAVLIRBALNR\n",
      "Length of Permuted string is 128 \n",
      "\n",
      "Permuted String is AMAUDEFCWITSPATNNGINNWGYTNRFISNDTGSEOAAFCLOELECSIETEHEETSNCMWSEBTCHNSEEHATEWUEEIIGRNEAOEAASSIATQEOEDNEEETOCSSTHMEHORVMEARRESTTNT\n",
      "Length of Permuted string is 128 \n",
      "\n",
      "Permuted String is ITTEVONSSTOIGNTANLSRIJTWENVMNVEHTEDEVIDUCLPARIESUUIUDFPNOPRONSNAOGEAYAEUDASITORRONSLTNTGHOASIAPROITELNFTLJEENRRMNNAEMODTLOYPLIPI\n",
      "Length of Permuted string is 128 \n",
      "\n",
      "Permuted String is CELEMOTAEADNIRORAOTOOIARANSSTSIELOSTTRDUCIIVNIVOEMSMIPTCTCLKHYMKNDAESENNHNNROELAPINEDPMEUOBEATUTNEUENFARCQNEENEORHSLAERSERECAERT\n",
      "Length of Permuted string is 128 \n",
      "\n",
      "Permuted String is EBNHFSOILAHWOHIOCFTHWAEETATTHRNTOHFATAECIASSROELTIITHCSSREETTNEFTLTHLRECLPAOGAIIRKLAREASEDYTBGONKSATIGINMAIFDUEDTHHTUNNGDPESCHAC\n",
      "Length of Permuted string is 128 \n",
      "\n",
      "Permuted String is EERTECTBHLTUUBTYEHCICNOOROHIAENASGONNFFTFEHERPSLPTANWHAEDEARSTAASMTETIHTIFRNNEEEOHECFHAIANTTSVLEHITCIPIORSIHNRPTDMOHLAOADYNETOKD\n",
      "Length of Permuted string is 128 \n",
      "\n",
      "Permuted String is EMSNRNELSNEEGCDUADSRMUCDAEDSNOIRSWLNIOIINEEREBGIOTHOTGBUONADMYEELDNNNAIDOREANLBEPZDMEOSMGNTEXYUEIASCGFUARNSAFENNOMREFNSTOLCSSMIO\n",
      "Length of Permuted string is 128 \n",
      "\n"
     ]
    }
   ],
   "source": [
    "# Generate all the 10-Permuted Strings from the Original Strings\n",
    "# Permuted strings will be saved in permuted_string_all\n",
    "split_str= []\n",
    "permuted_string_all=[]\n",
    "for i in range(len(orginal_string_all)):\n",
    "    str_split = orginal_string_all[i]  \n",
    "    n = 15\n",
    "    split_strings = [str_split[index : index + n] for index in range(0, len(str_split), n)]\n",
    "    for i in (split_strings):\n",
    "        split_str.append(i)\n",
    "    perm_str = []\n",
    "    perm_str2 = []\n",
    "    for i in range(len(split_strings)):\n",
    "        pos = [2,12,11,13,5,0,14,7,3,8,9,10,1,6,4] # These are the positions in the originl string\n",
    "        str2 = split_strings[i]\n",
    "        perm_str = list(range(len(str2)))\n",
    "        if len(perm_str) == 15:\n",
    "            for i in perm_str:\n",
    "                perm_str[i] = str2[pos[i]]\n",
    "            perm_str1 = ''.join(perm_str)\n",
    "            perm_str2.append(perm_str1)\n",
    "        else:\n",
    "            pos = [1,5,4,6,2,0,7,3]\n",
    "            perm_str = list(range(len(str2)))\n",
    "            for i in perm_str:\n",
    "                perm_str[i] = str2[pos[i]]\n",
    "            perm_str1 = ''.join(perm_str)\n",
    "            perm_str2.append(perm_str1)\n",
    "            permuted_string = ''.join(perm_str2)\n",
    "            permuted_string_all.append(permuted_string) # contains all the 10 strings! \n",
    "            print(\"Permuted String is\",permuted_string)\n",
    "            print(\"Length of Permuted string is\",len(permuted_string),'\\n')"
   ]
  },
  {
   "cell_type": "markdown",
   "metadata": {},
   "source": [
    "$\\large\\text{Final Answers: Original Strings}$"
   ]
  },
  {
   "cell_type": "code",
   "execution_count": 18,
   "metadata": {},
   "outputs": [
    {
     "data": {
      "text/plain": [
       "['ELNPIEIGAOSTTEEWAWEWTDTENAESGOOEAEASLOCINAICYNAUEBPSNCIEEHRTITOEHSNNATFTPOVANNIYETSDHLRREAONRTSAASMRBNAIEPRTDTSLEKAYCASYTLTPPKUL',\n",
       " 'HAENSAAAACSSELMOALLBRLCYHETLEEYRLLLNIAAIAOVCOGYODDCWESFEETROAPPITANTPDWHTHOYOEILRPIEKCIPAYSNNATUNSODBCCDNANLSTNNRYLTLHIUEEASEEGS',\n",
       " 'LERRPRAIPOSRTADFLOIRILPSEARLWATSAEAESEOIPANARREEEEMPPYAEAORLVBIUODNSNORERLLDDAITATEOMNNLCFINLPOYSSRNTDRAHUCSYTTREEUNYGYMYATWDESO',\n",
       " 'ECEDPETRNSOLIEEETVIEYERDERGSINLSIIEAAINAFATOBRDIHRRBFROIRBTAMNAEZUROEEDLAARAYHIDAOANMWRMLTSBDHTETTHCPKMONMMIXVUAFPEPMYETLLARRIBN',\n",
       " 'EPAWTDACITSAMUFNFNYSNIGTNRGNIWEONALSEAFCLTDGOTNEEMECHETSSCIECAWSETTNEEHESBHIEWNAIAREAOEUEGQESETTEODNEISAEHMOHATEEORVSCSMTRTTERSN',\n",
       " 'OGISTVNSTOITTENIMAWVRNTENVLNSJEPEDRDAIUCLTHEVIPIFOURDPNOSEUUGDNYSOAAAEUNSAEOGILORHSTNTOTRNRFATLPTIELNISAOROJNTRDNAEMEENMILLIYOPP',\n",
       " 'OICEOMRAADNLEETOSRRSOTAANSOATITIIDNSVRUCILEOTSCIPKMLITCTOVEMDHHSNNNEENNMYKAPEREOAUNDPMEOLITABUCUREENFAETNEEQHSNRRSLAENEOEEATERCR',\n",
       " 'SOELIFHIAHWNBHOWTOERHHETATFCTAASNERFSACIAOTHTIEOCTIEHSSRLETTLLTLATPHRECENFTRSOADIELREAAGIKNIYAMONSTIGBTGKENAHGUNTHTUFIDDHDCCEPSA',\n",
       " 'CUEHTEBBLTURETTCIYOEIAOROHHECNNHNFROEFTFESAGNAEPHRTAWAEDLSPNMISTRSFEIHTATATOINCNEAEFHAENEHEITTRLOICIPSTVHPASMARODOHLHINTODTDNYEK',\n",
       " 'NGESDRCLNEESMNEMSUDORNCAEDDASUNEIIELROINESRWIHNBGDTATBUOIGOODOMNELRNAIDEYENPMAMNEGDEOSLNBZEUTSRUAACGFXEYINNNMTESOREFASFNMOSOCLSI']"
      ]
     },
     "execution_count": 18,
     "metadata": {},
     "output_type": "execute_result"
    }
   ],
   "source": [
    "orginal_string_all"
   ]
  },
  {
   "cell_type": "markdown",
   "metadata": {},
   "source": [
    "$\\large\\text{Back Verifying: Permuted Strings}$"
   ]
  },
  {
   "cell_type": "code",
   "execution_count": 19,
   "metadata": {},
   "outputs": [
    {
     "data": {
      "text/plain": [
       "['NTTEEEEGPAOSLIIWSEGTWOTEENAADWAIACSOYOECINELAUHERPNTNECIEASBOPTOSIVNEATFTNHNRREEAASIDHLNTYRANIAOESTMRBNASTACSSPYEDKAYRLTLKPUTTLP',\n",
       " 'EESLAHMANACSAASLLTEROECLYHEALBLVOCNYOALAIARILOTERCGOEDSFEYWDPTHHAAOTIPDWPNTEPIARYYIIEKCOPLNCCDUSNSAODBNNTLHLINAURSYLTNNTEEEGAESS',\n",
       " 'RTRARLDIRPOSEAPOLRWIFAPISEALLRANAAETREEOIPSSAEOARMRLPEYAEEPEIRELDVLSUNORBNOALNCADFEIOMNDTTLRDAYIHSPRNTNSOSGYYTUMEYEUNCRTAEDSTYOW',\n",
       " 'EILEEEERDNSOCTPVSGIYENRIDERTEEITAOALBIINAFSAEIBRTRRAFHROIDBRAALAUMROEEEDNRZHMRLAATAINMWYODDMKOESNTHHCPBTTIYMEUMTFXPEPMAVLIRBALNR',\n",
       " 'AMAUDEFCWITSPATNNGINNWGYTNRFISNDTGSEOAAFCLOELECSIETEHEETSNCMWSEBTCHNSEEHATEWUEEIIGRNEAOEAASSIATQEOEDNEEETOCSSTHMEHORVMEARRESTTNT',\n",
       " 'ITTEVONSSTOIGNTANLSRIJTWENVMNVEHTEDEVIDUCLPARIESUUIUDFPNOPRONSNAOGEAYAEUDASITORRONSLTNTGHOASIAPROITELNFTLJEENRRMNNAEMODTLOYPLIPI',\n",
       " 'CELEMOTAEADNIRORAOTOOIARANSSTSIELOSTTRDUCIIVNIVOEMSMIPTCTCLKHYMKNDAESENNHNNROELAPINEDPMEUOBEATUTNEUENFARCQNEENEORHSLAERSERECAERT',\n",
       " 'EBNHFSOILAHWOHIOCFTHWAEETATTHRNTOHFATAECIASSROELTIITHCSSREETTNEFTLTHLRECLPAOGAIIRKLAREASEDYTBGONKSATIGINMAIFDUEDTHHTUNNGDPESCHAC',\n",
       " 'EERTECTBHLTUUBTYEHCICNOOROHIAENASGONNFFTFEHERPSLPTANWHAEDEARSTAASMTETIHTIFRNNEEEOHECFHAIANTTSVLEHITCIPIORSIHNRPTDMOHLAOADYNETOKD',\n",
       " 'EMSNRNELSNEEGCDUADSRMUCDAEDSNOIRSWLNIOIINEEREBGIOTHOTGBUONADMYEELDNNNAIDOREANLBEPZDMEOSMGNTEXYUEIASCGFUARNSAFENNOMREFNSTOLCSSMIO']"
      ]
     },
     "execution_count": 19,
     "metadata": {},
     "output_type": "execute_result"
    }
   ],
   "source": [
    "permuted_string_all"
   ]
  },
  {
   "cell_type": "code",
   "execution_count": 20,
   "metadata": {},
   "outputs": [],
   "source": [
    "# ------- End of Script --------## "
   ]
  }
 ],
 "metadata": {
  "kernelspec": {
   "display_name": "Python 3",
   "language": "python",
   "name": "python3"
  },
  "language_info": {
   "codemirror_mode": {
    "name": "ipython",
    "version": 3
   },
   "file_extension": ".py",
   "mimetype": "text/x-python",
   "name": "python",
   "nbconvert_exporter": "python",
   "pygments_lexer": "ipython3",
   "version": "3.8.5"
  }
 },
 "nbformat": 4,
 "nbformat_minor": 4
}
